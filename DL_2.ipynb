{
  "nbformat": 4,
  "nbformat_minor": 0,
  "metadata": {
    "colab": {
      "provenance": [],
      "authorship_tag": "ABX9TyMR9N0uLWMf22ouQady7nga",
      "include_colab_link": true
    },
    "kernelspec": {
      "name": "python3",
      "display_name": "Python 3"
    },
    "language_info": {
      "name": "python"
    }
  },
  "cells": [
    {
      "cell_type": "markdown",
      "metadata": {
        "id": "view-in-github",
        "colab_type": "text"
      },
      "source": [
        "<a href=\"https://colab.research.google.com/github/integral05/Deep-Learning-Practical/blob/main/DL_2.ipynb\" target=\"_parent\"><img src=\"https://colab.research.google.com/assets/colab-badge.svg\" alt=\"Open In Colab\"/></a>"
      ]
    },
    {
      "cell_type": "markdown",
      "source": [
        "### 2. Classification using Deep neural network Binary classification using Deep Neural Networks Example: Classify movie reviews into positive\" reviews and \"negative\" reviews, just based on the text content of the reviews. Use IMDB dataset"
      ],
      "metadata": {
        "id": "5FlPqhYkQ7mj"
      }
    },
    {
      "cell_type": "markdown",
      "source": [
        "# Importing necessary libraries\n",
        "\n",
        "This cell imports the necessary libraries for this task:\n",
        "\n",
        "- `numpy` for numerical operations, especially for handling arrays.\n",
        "- `tensorflow` and `keras` for building and training deep learning models.\n",
        "- `pad_sequences` for padding the input sequences to a fixed length."
      ],
      "metadata": {
        "id": "K7dXPoDLZRrs"
      }
    },
    {
      "cell_type": "code",
      "source": [
        "import numpy as np\n",
        "import tensorflow as tf\n",
        "from tensorflow import keras\n",
        "from tensorflow.keras.models import Sequential\n",
        "from tensorflow.keras.layers import Embedding, Dense, Flatten\n",
        "from tensorflow.keras.preprocessing.sequence import pad_sequences\n",
        "from sklearn.feature_extraction.text import TfidfVectorizer  # For example"
      ],
      "metadata": {
        "id": "Wo50XBE7Q7Ie"
      },
      "execution_count": 1,
      "outputs": []
    },
    {
      "cell_type": "markdown",
      "source": [
        "# Loading the IMDB dataset\n",
        "\n",
        "This cell loads the IMDB movie review dataset.\n",
        "\n",
        "- `np.load` is used to load the data from the 'imdb.npz' file.\n",
        "- `x_train` and `y_train` contain the training data (movie reviews and their labels).\n",
        "- `x_test` and `y_test` contain the testing data."
      ],
      "metadata": {
        "id": "OsnCpQ_1ZUjr"
      }
    },
    {
      "cell_type": "code",
      "source": [
        "with np.load ('/content/imdb.npz', allow_pickle=True) as f:\n",
        "  x_train,y_train = f['x_train'],f['y_train']\n",
        "  x_test,y_test = f['x_test'], f['y_test']\n"
      ],
      "metadata": {
        "id": "xoudD5MSSLam"
      },
      "execution_count": 5,
      "outputs": []
    },
    {
      "cell_type": "markdown",
      "source": [
        "# Finding the maximum index and number of words\n",
        "\n",
        "This cell calculates the maximum index of words in the dataset and the total number of words.\n",
        "\n",
        "- `max_index` represents the highest index of any word in the training data.\n",
        "- `num_words` is the total number of unique words in the vocabulary."
      ],
      "metadata": {
        "id": "IuqJyxqyZW89"
      }
    },
    {
      "cell_type": "code",
      "source": [
        "max_index = np.max([np.max(x) for x in x_train])\n",
        "num_words = max_index + 1"
      ],
      "metadata": {
        "id": "v6zxB2jcXoJH"
      },
      "execution_count": 6,
      "outputs": []
    },
    {
      "cell_type": "markdown",
      "source": [
        "# Padding the sequences\n",
        "\n",
        "This cell pads the sequences of movie reviews to a fixed length of 256.\n",
        "\n",
        "- `pad_sequences` is used to ensure all reviews have the same length.\n",
        "- This is necessary for the deep learning model to process the data efficiently."
      ],
      "metadata": {
        "id": "9MhG_GDDZa7Y"
      }
    },
    {
      "cell_type": "code",
      "source": [
        "x_train = pad_sequences(x_train, maxlen = 256)\n",
        "x_test = pad_sequences(x_test, maxlen = 256)"
      ],
      "metadata": {
        "id": "Kz0DlfPBS2fV"
      },
      "execution_count": 7,
      "outputs": []
    },
    {
      "cell_type": "markdown",
      "source": [
        "# Building and compiling the model\n",
        "\n",
        "This cell defines, builds, and compiles the deep learning model for classification.\n",
        "\n",
        "- `Sequential` is used to create a linear stack of layers for the model.\n",
        "- `Embedding` layer converts words into numerical vectors.\n",
        "- `Flatten` layer transforms the output of the embedding layer into a single vector.\n",
        "- `Dense` layer with sigmoid activation is used for binary classification (positive or negative review).\n",
        "- `compile` configures the model for training, specifying the optimizer, loss function, and metrics."
      ],
      "metadata": {
        "id": "Cg8G1AQnZfU7"
      }
    },
    {
      "cell_type": "code",
      "source": [
        "model = Sequential()\n",
        "model.add(Embedding(num_words, 32, input_length=256))\n",
        "model.add(Flatten())\n",
        "model.add(Dense(1,activation='sigmoid'))\n",
        "\n",
        "model.compile(optimizer='adam', loss='binary_crossentropy', metrics=['accuracy'])"
      ],
      "metadata": {
        "colab": {
          "base_uri": "https://localhost:8080/"
        },
        "id": "Hnwn-2ZYTKO1",
        "outputId": "e96f3420-c54c-406c-917c-0c2932741283"
      },
      "execution_count": 8,
      "outputs": [
        {
          "output_type": "stream",
          "name": "stderr",
          "text": [
            "/usr/local/lib/python3.11/dist-packages/keras/src/layers/core/embedding.py:90: UserWarning: Argument `input_length` is deprecated. Just remove it.\n",
            "  warnings.warn(\n"
          ]
        }
      ]
    },
    {
      "cell_type": "markdown",
      "source": [
        "# Training the model\n",
        "\n",
        "This cell trains the model using the training data.\n",
        "\n",
        "- `fit` function is used to train the model.\n",
        "- `epochs` specify the number of times the model iterates over the entire training data.\n",
        "- `batch_size` determines the number of samples processed before updating the model's weights.\n",
        "- `validation_split` sets aside a portion of the training data for validation during training."
      ],
      "metadata": {
        "id": "_YaF9V0hZjdz"
      }
    },
    {
      "cell_type": "code",
      "source": [
        "# Train the model\n",
        "model.fit(x_train, y_train, epochs=10, batch_size=32, validation_split=0.2)"
      ],
      "metadata": {
        "colab": {
          "base_uri": "https://localhost:8080/"
        },
        "id": "HIV3dSxzToe3",
        "outputId": "e9edcd4f-e7bf-47dd-b48c-acda6ca084c4"
      },
      "execution_count": 9,
      "outputs": [
        {
          "output_type": "stream",
          "name": "stdout",
          "text": [
            "Epoch 1/10\n",
            "\u001b[1m625/625\u001b[0m \u001b[32m━━━━━━━━━━━━━━━━━━━━\u001b[0m\u001b[37m\u001b[0m \u001b[1m16s\u001b[0m 24ms/step - accuracy: 0.6907 - loss: 0.5699 - val_accuracy: 0.8302 - val_loss: 0.3662\n",
            "Epoch 2/10\n",
            "\u001b[1m625/625\u001b[0m \u001b[32m━━━━━━━━━━━━━━━━━━━━\u001b[0m\u001b[37m\u001b[0m \u001b[1m22s\u001b[0m 26ms/step - accuracy: 0.9299 - loss: 0.1954 - val_accuracy: 0.8464 - val_loss: 0.3402\n",
            "Epoch 3/10\n",
            "\u001b[1m625/625\u001b[0m \u001b[32m━━━━━━━━━━━━━━━━━━━━\u001b[0m\u001b[37m\u001b[0m \u001b[1m18s\u001b[0m 23ms/step - accuracy: 0.9845 - loss: 0.0730 - val_accuracy: 0.8054 - val_loss: 0.4593\n",
            "Epoch 4/10\n",
            "\u001b[1m625/625\u001b[0m \u001b[32m━━━━━━━━━━━━━━━━━━━━\u001b[0m\u001b[37m\u001b[0m \u001b[1m14s\u001b[0m 22ms/step - accuracy: 0.9958 - loss: 0.0295 - val_accuracy: 0.7674 - val_loss: 0.6030\n",
            "Epoch 5/10\n",
            "\u001b[1m625/625\u001b[0m \u001b[32m━━━━━━━━━━━━━━━━━━━━\u001b[0m\u001b[37m\u001b[0m \u001b[1m21s\u001b[0m 24ms/step - accuracy: 0.9990 - loss: 0.0115 - val_accuracy: 0.7536 - val_loss: 0.6936\n",
            "Epoch 6/10\n",
            "\u001b[1m625/625\u001b[0m \u001b[32m━━━━━━━━━━━━━━━━━━━━\u001b[0m\u001b[37m\u001b[0m \u001b[1m14s\u001b[0m 22ms/step - accuracy: 0.9992 - loss: 0.0079 - val_accuracy: 0.8066 - val_loss: 0.5540\n",
            "Epoch 7/10\n",
            "\u001b[1m625/625\u001b[0m \u001b[32m━━━━━━━━━━━━━━━━━━━━\u001b[0m\u001b[37m\u001b[0m \u001b[1m14s\u001b[0m 22ms/step - accuracy: 1.0000 - loss: 0.0030 - val_accuracy: 0.7808 - val_loss: 0.6813\n",
            "Epoch 8/10\n",
            "\u001b[1m625/625\u001b[0m \u001b[32m━━━━━━━━━━━━━━━━━━━━\u001b[0m\u001b[37m\u001b[0m \u001b[1m21s\u001b[0m 23ms/step - accuracy: 1.0000 - loss: 0.0018 - val_accuracy: 0.8058 - val_loss: 0.6097\n",
            "Epoch 9/10\n",
            "\u001b[1m625/625\u001b[0m \u001b[32m━━━━━━━━━━━━━━━━━━━━\u001b[0m\u001b[37m\u001b[0m \u001b[1m15s\u001b[0m 23ms/step - accuracy: 0.9997 - loss: 0.0017 - val_accuracy: 0.8016 - val_loss: 0.6533\n",
            "Epoch 10/10\n",
            "\u001b[1m625/625\u001b[0m \u001b[32m━━━━━━━━━━━━━━━━━━━━\u001b[0m\u001b[37m\u001b[0m \u001b[1m20s\u001b[0m 22ms/step - accuracy: 1.0000 - loss: 8.3440e-04 - val_accuracy: 0.7992 - val_loss: 0.6979\n"
          ]
        },
        {
          "output_type": "execute_result",
          "data": {
            "text/plain": [
              "<keras.src.callbacks.history.History at 0x7a2fd2b4f450>"
            ]
          },
          "metadata": {},
          "execution_count": 9
        }
      ]
    },
    {
      "cell_type": "markdown",
      "source": [
        "# Evaluating the model\n",
        "\n",
        "This cell evaluates the trained model's performance using the test data.\n",
        "\n",
        "- `evaluate` function calculates the loss and accuracy of the model on the test data.\n",
        "- The accuracy score indicates the percentage of correctly classified movie reviews."
      ],
      "metadata": {
        "id": "vsHZMM_XZp-L"
      }
    },
    {
      "cell_type": "code",
      "source": [
        "accuracy = model.evaluate(x_test, y_test)\n",
        "print('Accuracy: ', accuracy)"
      ],
      "metadata": {
        "colab": {
          "base_uri": "https://localhost:8080/"
        },
        "id": "G_N0n31UUfH4",
        "outputId": "30d7cab2-6e72-4610-b9d3-4d76b5948f3c"
      },
      "execution_count": 10,
      "outputs": [
        {
          "output_type": "stream",
          "name": "stdout",
          "text": [
            "\u001b[1m782/782\u001b[0m \u001b[32m━━━━━━━━━━━━━━━━━━━━\u001b[0m\u001b[37m\u001b[0m \u001b[1m1s\u001b[0m 2ms/step - accuracy: 0.8980 - loss: 0.3268\n",
            "Accuracy:  [0.4924541711807251, 0.8556399941444397]\n"
          ]
        }
      ]
    },
    {
      "cell_type": "code",
      "source": [
        "import numpy as np\n",
        "import tensorflow as tf\n",
        "from tensorflow import keras\n",
        "from tensorflow.keras.models import Sequential\n",
        "from tensorflow.keras.layers import Dense\n",
        "from sklearn.feature_extraction.text import TfidfVectorizer\n",
        "\n",
        "# Load the IMDB dataset\n",
        "with np.load('/content/imdb.npz', allow_pickle=True) as f:\n",
        "    x_train, y_train = f['x_train'], f['y_train']\n",
        "    x_test, y_test = f['x_test'], f['y_test']\n",
        "\n",
        "# Convert x_train and x_test to raw text if they are not already\n",
        "# Assuming x_train and x_test are lists of word indices:\n",
        "\n",
        "# Apply TfidfVectorizer to the raw text data\n",
        "vectorizer = TfidfVectorizer(max_features=10000)  # Adjust max_features as needed\n",
        "# Moved vectorizer definition before usage\n",
        "\n",
        "#Fit Vectorizer and Transform for train and test data\n",
        "x_train_text = [' '.join([str(i) for i in seq]) for seq in x_train]\n",
        "x_test_text = [' '.join([str(i) for i in seq]) for seq in x_test]\n",
        "\n",
        "\n",
        "x_train = vectorizer.fit_transform(x_train_text).toarray()\n",
        "x_test = vectorizer.transform(x_test_text).toarray()\n",
        "\n",
        "# Build the Dense model\n",
        "model = Sequential()\n",
        "model.add(Dense(16, input_shape=(x_train.shape[1],), activation=\"relu\"))\n",
        "model.add(Dense(16, activation=\"relu\"))\n",
        "model.add(Dense(1, activation=\"sigmoid\"))\n",
        "\n",
        "# Compile the model\n",
        "model.compile(optimizer='adam', loss='binary_crossentropy', metrics=['accuracy'])\n",
        "\n",
        "# Train the model\n",
        "model.fit(x_train, y_train, epochs=10, batch_size=32, validation_split=0.2)\n",
        "\n",
        "# Evaluate the model\n",
        "_, accuracy = model.evaluate(x_test, y_test)\n",
        "print('Accuracy: ', accuracy)"
      ],
      "metadata": {
        "id": "hXRQhjI6ejBg",
        "colab": {
          "base_uri": "https://localhost:8080/"
        },
        "outputId": "5dfcbb95-3154-4d5a-9d31-003efcdc16d9"
      },
      "execution_count": 12,
      "outputs": [
        {
          "output_type": "stream",
          "name": "stderr",
          "text": [
            "/usr/local/lib/python3.11/dist-packages/keras/src/layers/core/dense.py:87: UserWarning: Do not pass an `input_shape`/`input_dim` argument to a layer. When using Sequential models, prefer using an `Input(shape)` object as the first layer in the model instead.\n",
            "  super().__init__(activity_regularizer=activity_regularizer, **kwargs)\n"
          ]
        },
        {
          "output_type": "stream",
          "name": "stdout",
          "text": [
            "Epoch 1/10\n",
            "\u001b[1m625/625\u001b[0m \u001b[32m━━━━━━━━━━━━━━━━━━━━\u001b[0m\u001b[37m\u001b[0m \u001b[1m5s\u001b[0m 6ms/step - accuracy: 0.7511 - loss: 0.4971 - val_accuracy: 0.8630 - val_loss: 0.3262\n",
            "Epoch 2/10\n",
            "\u001b[1m625/625\u001b[0m \u001b[32m━━━━━━━━━━━━━━━━━━━━\u001b[0m\u001b[37m\u001b[0m \u001b[1m4s\u001b[0m 5ms/step - accuracy: 0.9475 - loss: 0.1552 - val_accuracy: 0.8268 - val_loss: 0.4514\n",
            "Epoch 3/10\n",
            "\u001b[1m625/625\u001b[0m \u001b[32m━━━━━━━━━━━━━━━━━━━━\u001b[0m\u001b[37m\u001b[0m \u001b[1m5s\u001b[0m 5ms/step - accuracy: 0.9735 - loss: 0.0914 - val_accuracy: 0.8574 - val_loss: 0.4238\n",
            "Epoch 4/10\n",
            "\u001b[1m625/625\u001b[0m \u001b[32m━━━━━━━━━━━━━━━━━━━━\u001b[0m\u001b[37m\u001b[0m \u001b[1m4s\u001b[0m 6ms/step - accuracy: 0.9848 - loss: 0.0569 - val_accuracy: 0.8320 - val_loss: 0.6067\n",
            "Epoch 5/10\n",
            "\u001b[1m625/625\u001b[0m \u001b[32m━━━━━━━━━━━━━━━━━━━━\u001b[0m\u001b[37m\u001b[0m \u001b[1m4s\u001b[0m 4ms/step - accuracy: 0.9936 - loss: 0.0314 - val_accuracy: 0.7856 - val_loss: 0.9477\n",
            "Epoch 6/10\n",
            "\u001b[1m625/625\u001b[0m \u001b[32m━━━━━━━━━━━━━━━━━━━━\u001b[0m\u001b[37m\u001b[0m \u001b[1m5s\u001b[0m 4ms/step - accuracy: 0.9967 - loss: 0.0176 - val_accuracy: 0.7984 - val_loss: 1.0195\n",
            "Epoch 7/10\n",
            "\u001b[1m625/625\u001b[0m \u001b[32m━━━━━━━━━━━━━━━━━━━━\u001b[0m\u001b[37m\u001b[0m \u001b[1m4s\u001b[0m 7ms/step - accuracy: 0.9989 - loss: 0.0073 - val_accuracy: 0.7840 - val_loss: 1.2130\n",
            "Epoch 8/10\n",
            "\u001b[1m625/625\u001b[0m \u001b[32m━━━━━━━━━━━━━━━━━━━━\u001b[0m\u001b[37m\u001b[0m \u001b[1m3s\u001b[0m 5ms/step - accuracy: 0.9998 - loss: 0.0030 - val_accuracy: 0.7888 - val_loss: 1.3357\n",
            "Epoch 9/10\n",
            "\u001b[1m625/625\u001b[0m \u001b[32m━━━━━━━━━━━━━━━━━━━━\u001b[0m\u001b[37m\u001b[0m \u001b[1m5s\u001b[0m 4ms/step - accuracy: 1.0000 - loss: 0.0011 - val_accuracy: 0.7950 - val_loss: 1.3946\n",
            "Epoch 10/10\n",
            "\u001b[1m625/625\u001b[0m \u001b[32m━━━━━━━━━━━━━━━━━━━━\u001b[0m\u001b[37m\u001b[0m \u001b[1m6s\u001b[0m 5ms/step - accuracy: 1.0000 - loss: 3.9953e-04 - val_accuracy: 0.7928 - val_loss: 1.4907\n",
            "\u001b[1m782/782\u001b[0m \u001b[32m━━━━━━━━━━━━━━━━━━━━\u001b[0m\u001b[37m\u001b[0m \u001b[1m2s\u001b[0m 2ms/step - accuracy: 0.8679 - loss: 0.7657\n",
            "Accuracy:  0.8392800092697144\n"
          ]
        }
      ]
    },
    {
      "cell_type": "code",
      "source": [],
      "metadata": {
        "id": "S8re9EXsxFhV"
      },
      "execution_count": null,
      "outputs": []
    }
  ]
}